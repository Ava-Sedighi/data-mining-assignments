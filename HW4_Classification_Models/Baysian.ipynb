{
  "nbformat": 4,
  "nbformat_minor": 0,
  "metadata": {
    "colab": {
      "provenance": [],
      "collapsed_sections": [
        "WXiSE50FNq_m",
        "9jH9i5AIZt-N"
      ]
    },
    "kernelspec": {
      "name": "python3",
      "display_name": "Python 3"
    },
    "language_info": {
      "name": "python"
    }
  },
  "cells": [
    {
      "cell_type": "markdown",
      "source": [
        "## Section 2"
      ],
      "metadata": {
        "id": "f2rmatazNm5U"
      }
    },
    {
      "cell_type": "markdown",
      "source": [
        "### Question1"
      ],
      "metadata": {
        "id": "WXiSE50FNq_m"
      }
    },
    {
      "cell_type": "code",
      "source": [
        "import collections\n",
        "import numpy as np\n",
        "import util"
      ],
      "metadata": {
        "id": "Oe8YbPGRXX-l"
      },
      "execution_count": 1,
      "outputs": []
    },
    {
      "cell_type": "code",
      "source": [
        "def get_words(message):\n",
        "    \"\"\"Get the normalized list of words from a message string.\n",
        "\n",
        "    This function should split a message into words, normalize them, and return\n",
        "    the resulting list. For splitting, you should split on spaces. For normalization,\n",
        "    you should convert everything to lowercase.\n",
        "\n",
        "    Args:\n",
        "        message: A string containing an SMS message\n",
        "\n",
        "    Returns:\n",
        "       The list of normalized words from the message.\n",
        "    \"\"\"\n",
        "\n",
        "    return message.lower().split()"
      ],
      "metadata": {
        "id": "h71PX0gAXaig"
      },
      "execution_count": 2,
      "outputs": []
    },
    {
      "cell_type": "code",
      "source": [
        "def create_dictionary(messages):\n",
        "    \"\"\"Create a dictionary mapping words to integer indices.\n",
        "\n",
        "    This function should create a dictionary of word to indices using the provided\n",
        "    training messages. Use get_words to process each message.\n",
        "\n",
        "    Rare words are often not useful for modeling. Please only add words to the dictionary\n",
        "    if they occur in at least five messages.\n",
        "\n",
        "    Args:\n",
        "        messages: A list of strings containing SMS messages\n",
        "\n",
        "    Returns:\n",
        "        A python dict mapping words to integers.\n",
        "    \"\"\"\n",
        "\n",
        "    word_count = collections.defaultdict(int)\n",
        "\n",
        "    for message in messages:\n",
        "        words = set(get_words(message))  # فقط یک‌بار برای هر پیام\n",
        "        for word in words:\n",
        "            word_count[word] += 1\n",
        "\n",
        "    dictionary = {}\n",
        "    for word, count in word_count.items():\n",
        "        if count >= 5:  # آستانه تعریف‌شده: حداقل در ۵ پیام ظاهر شده باشد\n",
        "            dictionary[word] = len(dictionary)\n",
        "\n",
        "    return dictionary"
      ],
      "metadata": {
        "id": "wsUsHmN8Xakt"
      },
      "execution_count": 3,
      "outputs": []
    },
    {
      "cell_type": "code",
      "source": [
        "def transform_text(messages, word_dictionary):\n",
        "    \"\"\"Transform a list of text messages into a numpy array for further processing.\n",
        "\n",
        "    This function should create a numpy array that contains the number of times each word\n",
        "    appears in each message. Each row in the resulting array should correspond to each\n",
        "    message and each column should correspond to a word.\n",
        "\n",
        "    Use the provided word dictionary to map words to column indices. Ignore words that\n",
        "    are not present in the dictionary. Use get_words to get the words for a message.\n",
        "\n",
        "    Args:\n",
        "        messages: A list of strings where each string is an SMS message.\n",
        "        word_dictionary: A python dict mapping words to integers.\n",
        "\n",
        "    Returns:\n",
        "        A numpy array marking the words present in each message.\n",
        "    \"\"\"\n",
        "    matrix = np.zeros((len(messages), len(word_dictionary)), dtype=int)\n",
        "\n",
        "    for i, message in enumerate(messages):\n",
        "        words = get_words(message)\n",
        "        for word in words:\n",
        "            if word in word_dictionary:\n",
        "                j = word_dictionary[word]\n",
        "                matrix[i, j] += 1\n",
        "\n",
        "    return matrix"
      ],
      "metadata": {
        "id": "ogrlHFKcNqq-"
      },
      "execution_count": 4,
      "outputs": []
    },
    {
      "cell_type": "markdown",
      "source": [
        "### Question 2"
      ],
      "metadata": {
        "id": "9jH9i5AIZt-N"
      }
    },
    {
      "cell_type": "code",
      "source": [
        "def fit_naive_bayes_model(matrix, labels):\n",
        "    \"\"\"Fit a naive bayes model.\n",
        "\n",
        "    This function should fit a Naive Bayes model given a training matrix and labels.\n",
        "\n",
        "    The function should return the state of that model.\n",
        "\n",
        "    Feel free to use whatever datatype you wish for the state of the model.\n",
        "\n",
        "    Args:\n",
        "        matrix: A numpy array containing word counts for the training data\n",
        "        labels: The binary (0 or 1) labels for that training data\n",
        "\n",
        "    Returns: The trained model\n",
        "    \"\"\"\n",
        "    n_messages, n_words = matrix.shape\n",
        "\n",
        "    # تقسیم داده‌ها بر اساس برچسب کلاس\n",
        "    spam_indices = labels == 1\n",
        "    ham_indices = labels == 0\n",
        "\n",
        "    # تعداد پیام‌های هر کلاس\n",
        "    n_spam = np.sum(spam_indices)\n",
        "    n_ham = np.sum(ham_indices)\n",
        "\n",
        "    # احتمال اولیه کلاس‌ها (با log)\n",
        "    log_class_priors = np.log(np.array([\n",
        "        n_ham / len(labels),\n",
        "        n_spam / len(labels)\n",
        "    ]))\n",
        "\n",
        "    # مجموع کلمات در هر کلاس + لاپلاس\n",
        "    spam_word_counts = np.sum(matrix[spam_indices], axis=0) + 1\n",
        "    ham_word_counts = np.sum(matrix[ham_indices], axis=0) + 1\n",
        "\n",
        "    # مجموع کل کلمات + |V| (برای لاپلاس)\n",
        "    spam_total = np.sum(spam_word_counts)\n",
        "    ham_total = np.sum(ham_word_counts)\n",
        "\n",
        "    # احتمال شرطی کلمات برای هر کلاس (با log)\n",
        "    log_word_probs = np.vstack([\n",
        "        np.log(ham_word_counts / ham_total),  # کلاس 0 = ham\n",
        "        np.log(spam_word_counts / spam_total)  # کلاس 1 = spam\n",
        "    ])\n",
        "\n",
        "    return {\n",
        "        \"log_class_priors\": log_class_priors,\n",
        "        \"log_word_probs\": log_word_probs\n",
        "    }\n",
        "\n"
      ],
      "metadata": {
        "id": "BtXDADY-Nqww"
      },
      "execution_count": 5,
      "outputs": []
    },
    {
      "cell_type": "code",
      "source": [
        "def predict_from_naive_bayes_model(model, matrix):\n",
        "    \"\"\"Use a Naive Bayes model to compute predictions for a target matrix.\n",
        "\n",
        "    This function should be able to predict on the models that fit_naive_bayes_model\n",
        "    outputs.\n",
        "\n",
        "    Args:\n",
        "        model: A trained model from fit_naive_bayes_model\n",
        "        matrix: A numpy array containing word counts\n",
        "\n",
        "    Returns: A numpy array containg the predictions from the model\n",
        "    \"\"\"\n",
        "    log_class_priors = model[\"log_class_priors\"]\n",
        "    log_word_probs = model[\"log_word_probs\"]  # شکل: [2 × V]\n",
        "\n",
        "    # ضرب لگاریتم احتمال‌ها در بردار تعداد کلمات\n",
        "    log_likelihood_ham = matrix @ log_word_probs[0] + log_class_priors[0]\n",
        "    log_likelihood_spam = matrix @ log_word_probs[1] + log_class_priors[1]\n",
        "\n",
        "    # انتخاب کلاسی که لگاریتم احتمالش بیشتره\n",
        "    return (log_likelihood_spam > log_likelihood_ham).astype(int)\n"
      ],
      "metadata": {
        "id": "wlShjfCFNs2B"
      },
      "execution_count": 7,
      "outputs": []
    },
    {
      "cell_type": "markdown",
      "source": [
        "### Question 3"
      ],
      "metadata": {
        "id": "czW_QP-gcR1E"
      }
    },
    {
      "cell_type": "code",
      "source": [
        "def get_top_five_naive_bayes_words(model, dictionary):\n",
        "    \"\"\"Compute the top five words that are most indicative of the spam (i.e positive) class.\n",
        "\n",
        "    Ues the metric given in 6c as a measure of how indicative a word is.\n",
        "    Return the words in sorted form, with the most indicative word first.\n",
        "\n",
        "    Args:\n",
        "        model: The Naive Bayes model returned from fit_naive_bayes_model\n",
        "        dictionary: A mapping of word to integer ids\n",
        "\n",
        "    Returns: The top five most indicative words in sorted order with the most indicative first\n",
        "    \"\"\"\n",
        "    log_word_probs = model[\"log_word_probs\"]  # شکل: [2 × V]\n",
        "\n",
        "    # محاسبه تفاوت لگاریتمی: log(P(w | spam)) - log(P(w | ham))\n",
        "    log_ratios = log_word_probs[1] - log_word_probs[0]\n",
        "\n",
        "    # لیست کلمات به همراه score آن‌ها\n",
        "    index_to_word = {index: word for word, index in dictionary.items()}\n",
        "    word_scores = [(index_to_word[i], log_ratios[i]) for i in range(len(log_ratios))]\n",
        "\n",
        "    # مرتب‌سازی نزولی بر اساس score و گرفتن top 5\n",
        "    top_5 = sorted(word_scores, key=lambda x: x[1], reverse=True)[:5]\n",
        "\n",
        "    # فقط لیست کلمات را برگردان\n",
        "    return [word for word, score in top_5]\n",
        "\n",
        "\n"
      ],
      "metadata": {
        "id": "6AteuEt3ZprD"
      },
      "execution_count": 8,
      "outputs": []
    },
    {
      "cell_type": "markdown",
      "source": [
        "### RESULT !!"
      ],
      "metadata": {
        "id": "o-mAtyd3u7gc"
      }
    },
    {
      "cell_type": "code",
      "source": [
        "def main():\n",
        "    train_messages, train_labels = util.load_spam_dataset('train.tsv')\n",
        "    val_messages, val_labels = util.load_spam_dataset('val.tsv')\n",
        "    test_messages, test_labels = util.load_spam_dataset('test.tsv')\n",
        "\n",
        "    dictionary = create_dictionary(train_messages)\n",
        "\n",
        "    util.write_json('dictionary', dictionary)\n",
        "\n",
        "    train_matrix = transform_text(train_messages, dictionary)\n",
        "\n",
        "    np.savetxt('sample_train_matrix', train_matrix[:100,:])\n",
        "\n",
        "    val_matrix = transform_text(val_messages, dictionary)\n",
        "    test_matrix = transform_text(test_messages, dictionary)\n",
        "\n",
        "    naive_bayes_model = fit_naive_bayes_model(train_matrix, train_labels)\n",
        "\n",
        "    naive_bayes_predictions = predict_from_naive_bayes_model(naive_bayes_model, test_matrix)\n",
        "\n",
        "    np.savetxt('naive_bayes_predictions', naive_bayes_predictions)\n",
        "\n",
        "    naive_bayes_accuracy = np.mean(naive_bayes_predictions == test_labels)\n",
        "\n",
        "    print('Naive Bayes had an accuracy of {} on the testing set'.format(naive_bayes_accuracy))\n",
        "\n",
        "    top_5_words = get_top_five_naive_bayes_words(naive_bayes_model, dictionary)\n",
        "\n",
        "    print('The top 5 indicative words for Naive Bayes are: ', top_5_words)\n",
        "\n",
        "    util.write_json('top_indicative_words', top_5_words)\n",
        "\n",
        "if __name__ == \"__main__\":\n",
        "    main()"
      ],
      "metadata": {
        "id": "ziCMY6RrZsFe",
        "colab": {
          "base_uri": "https://localhost:8080/"
        },
        "outputId": "51de0e0c-f465-4f11-9c54-715eb801a649"
      },
      "execution_count": 9,
      "outputs": [
        {
          "output_type": "stream",
          "name": "stdout",
          "text": [
            "Naive Bayes had an accuracy of 0.978494623655914 on the testing set\n",
            "The top 5 indicative words for Naive Bayes are:  ['claim', 'won', 'prize', 'tone', 'urgent!']\n"
          ]
        }
      ]
    }
  ]
}